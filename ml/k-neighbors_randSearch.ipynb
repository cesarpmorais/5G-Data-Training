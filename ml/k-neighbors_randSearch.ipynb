{
 "cells": [
  {
   "cell_type": "markdown",
   "metadata": {},
   "source": [
    "# K-Nearest Neighbors\n",
    "Grid Search será usado para selecionar os melhores hiperparâmetros."
   ]
  },
  {
   "cell_type": "code",
   "execution_count": 18,
   "metadata": {},
   "outputs": [],
   "source": [
    "import aux\n",
    "\n",
    "from sklearn.model_selection import RandomizedSearchCV\n",
    "from sklearn.neighbors import KNeighborsClassifier\n",
    "\n",
    "import numpy as np\n",
    "import matplotlib.pyplot as plt"
   ]
  },
  {
   "cell_type": "code",
   "execution_count": 19,
   "metadata": {},
   "outputs": [],
   "source": [
    "# Carregar os datasets\n",
    "og_df, pca_df, pearson_df, lda_df = aux.get_datasets()\n",
    "\n",
    "# Preparar listas para comparação\n",
    "auc_values = []\n",
    "f1_score_values = []"
   ]
  },
  {
   "cell_type": "markdown",
   "metadata": {},
   "source": [
    "### Dataset Original"
   ]
  },
  {
   "cell_type": "code",
   "execution_count": 20,
   "metadata": {},
   "outputs": [],
   "source": [
    "og_X_train, og_X_test, og_y_train, og_y_test = aux.prepare_dataset(og_df)"
   ]
  },
  {
   "cell_type": "markdown",
   "metadata": {},
   "source": [
    "Buscando os melhores hiperparâmetros:\n",
    "\n",
    "'algorithm' não foi usado pois o valor default já decide a melhor abordagem;\n",
    "\n",
    "'leafsize' geralmente dá maior acurácia com valores menores, mas valores maiores são mais performáticos;\n",
    "\n",
    "[Cross Validation](https://machinelearningmastery.com/k-fold-cross-validation/) é um método estatístico usado quando temos apenas um conjunto de dados para treinar nosso modelo. A ideia é previnir overfitting, e por isso nossos dados são divididos em diferentes conjuntos. Por sorte, é algo que ganhamos \"de graça\" ao fazer o GridSearch."
   ]
  },
  {
   "cell_type": "code",
   "execution_count": 21,
   "metadata": {},
   "outputs": [
    {
     "name": "stdout",
     "output_type": "stream",
     "text": [
      "{'weights': 'uniform', 'n_neighbors': 1, 'leaf_size': 30}\n"
     ]
    }
   ],
   "source": [
    "params = {\n",
    "    'n_neighbors': np.arange(1,10),\n",
    "    'weights': ['uniform', 'distance'],\n",
    "    'leaf_size': [20, 30, 50, 100],\n",
    "}\n",
    "\n",
    "knn_model = KNeighborsClassifier()\n",
    "grid_search = RandomizedSearchCV(knn_model, params, random_state=42, n_jobs=-1)\n",
    "grid_search.fit(og_X_train, og_y_train)\n",
    "\n",
    "og_best_params = grid_search.best_params_\n",
    "print(grid_search.best_params_)"
   ]
  },
  {
   "cell_type": "code",
   "execution_count": 22,
   "metadata": {},
   "outputs": [
    {
     "name": "stdout",
     "output_type": "stream",
     "text": [
      "Verdadeiros Ataques: 7246, Falsos Não-Ataques: 24\n",
      "Falsos Ataques: 2257, Verdadeiros Não-Ataques: 4978\n",
      "AUC: 0.842\n",
      "              precision    recall  f1-score   support\n",
      "\n",
      "          -1       0.76      1.00      0.86      7270\n",
      "           1       1.00      0.69      0.81      7235\n",
      "\n",
      "    accuracy                           0.84     14505\n",
      "   macro avg       0.88      0.84      0.84     14505\n",
      "weighted avg       0.88      0.84      0.84     14505\n",
      "\n"
     ]
    }
   ],
   "source": [
    "knn = KNeighborsClassifier(**og_best_params)\n",
    "\n",
    "\n",
    "knn.fit(og_X_train, og_y_train)\n",
    "y_pred = knn.predict(og_X_test)\n",
    "\n",
    "auc, f1 = aux.analyse_ml_results(og_y_test, y_pred)\n",
    "auc_values.append(auc)\n",
    "f1_score_values.append(f1)"
   ]
  },
  {
   "cell_type": "markdown",
   "metadata": {},
   "source": [
    "### Dataset Reduzido por Pearson"
   ]
  },
  {
   "cell_type": "code",
   "execution_count": 23,
   "metadata": {},
   "outputs": [],
   "source": [
    "pearson_X_train, pearson_X_test, pearson_y_train, pearson_y_test = aux.prepare_dataset(pearson_df)"
   ]
  },
  {
   "cell_type": "code",
   "execution_count": 24,
   "metadata": {},
   "outputs": [
    {
     "name": "stdout",
     "output_type": "stream",
     "text": [
      "{'weights': 'uniform', 'n_neighbors': 1, 'leaf_size': 30}\n"
     ]
    }
   ],
   "source": [
    "knn_model = KNeighborsClassifier()\n",
    "grid_search = RandomizedSearchCV(knn_model, params, random_state=42, n_jobs=-1)\n",
    "grid_search.fit(pearson_X_train, pearson_y_train)\n",
    "\n",
    "pearson_best_params = grid_search.best_params_\n",
    "print(grid_search.best_params_)"
   ]
  },
  {
   "cell_type": "code",
   "execution_count": 25,
   "metadata": {},
   "outputs": [
    {
     "name": "stdout",
     "output_type": "stream",
     "text": [
      "Verdadeiros Ataques: 7257, Falsos Não-Ataques: 13\n",
      "Falsos Ataques: 199, Verdadeiros Não-Ataques: 7036\n",
      "AUC: 0.985\n",
      "              precision    recall  f1-score   support\n",
      "\n",
      "          -1       0.97      1.00      0.99      7270\n",
      "           1       1.00      0.97      0.99      7235\n",
      "\n",
      "    accuracy                           0.99     14505\n",
      "   macro avg       0.99      0.99      0.99     14505\n",
      "weighted avg       0.99      0.99      0.99     14505\n",
      "\n"
     ]
    }
   ],
   "source": [
    "knn = KNeighborsClassifier(**pearson_best_params)\n",
    "knn.fit(pearson_X_train, pearson_y_train)\n",
    "y_pred = knn.predict(pearson_X_test)\n",
    "\n",
    "auc, f1 = aux.analyse_ml_results(pearson_y_test, y_pred)\n",
    "auc_values.append(auc)\n",
    "f1_score_values.append(f1)"
   ]
  },
  {
   "cell_type": "markdown",
   "metadata": {},
   "source": [
    "### Dataset Reduzido por PCA"
   ]
  },
  {
   "cell_type": "code",
   "execution_count": 26,
   "metadata": {},
   "outputs": [],
   "source": [
    "pca_X_train, pca_X_test, pca_y_train, pca_y_test = aux.prepare_dataset(pca_df)"
   ]
  },
  {
   "cell_type": "code",
   "execution_count": 27,
   "metadata": {},
   "outputs": [
    {
     "name": "stdout",
     "output_type": "stream",
     "text": [
      "{'weights': 'uniform', 'n_neighbors': 1, 'leaf_size': 30}\n"
     ]
    }
   ],
   "source": [
    "knn_model = KNeighborsClassifier()\n",
    "grid_search = RandomizedSearchCV(knn_model, params, random_state=42, n_jobs=-1)\n",
    "grid_search.fit(pca_X_train, pca_y_train)\n",
    "\n",
    "pca_best_params = grid_search.best_params_\n",
    "print(grid_search.best_params_)"
   ]
  },
  {
   "cell_type": "code",
   "execution_count": 28,
   "metadata": {},
   "outputs": [
    {
     "name": "stdout",
     "output_type": "stream",
     "text": [
      "Verdadeiros Ataques: 7212, Falsos Não-Ataques: 58\n",
      "Falsos Ataques: 67, Verdadeiros Não-Ataques: 7168\n",
      "AUC: 0.991\n",
      "              precision    recall  f1-score   support\n",
      "\n",
      "        -1.0       0.99      0.99      0.99      7270\n",
      "         1.0       0.99      0.99      0.99      7235\n",
      "\n",
      "    accuracy                           0.99     14505\n",
      "   macro avg       0.99      0.99      0.99     14505\n",
      "weighted avg       0.99      0.99      0.99     14505\n",
      "\n"
     ]
    }
   ],
   "source": [
    "knn = KNeighborsClassifier(**pca_best_params)\n",
    "knn.fit(pca_X_train, pca_y_train)\n",
    "y_pred = knn.predict(pca_X_test)\n",
    "\n",
    "auc, f1 = aux.analyse_ml_results(pca_y_test, y_pred)\n",
    "auc_values.append(auc)\n",
    "f1_score_values.append(f1)"
   ]
  },
  {
   "cell_type": "markdown",
   "metadata": {},
   "source": [
    "### Dataset Reduzido Por LDA"
   ]
  },
  {
   "cell_type": "code",
   "execution_count": 29,
   "metadata": {},
   "outputs": [],
   "source": [
    "lda_X_train, lda_X_test, lda_y_train, lda_y_test = aux.prepare_dataset(lda_df)"
   ]
  },
  {
   "cell_type": "code",
   "execution_count": 30,
   "metadata": {},
   "outputs": [
    {
     "name": "stdout",
     "output_type": "stream",
     "text": [
      "{'weights': 'uniform', 'n_neighbors': 6, 'leaf_size': 20}\n"
     ]
    }
   ],
   "source": [
    "knn_model = KNeighborsClassifier()\n",
    "grid_search = RandomizedSearchCV(knn_model, params, random_state=42, n_jobs=-1)\n",
    "grid_search.fit(lda_X_train, lda_y_train)\n",
    "\n",
    "lda_best_params = grid_search.best_params_\n",
    "print(grid_search.best_params_)"
   ]
  },
  {
   "cell_type": "code",
   "execution_count": 31,
   "metadata": {},
   "outputs": [
    {
     "name": "stdout",
     "output_type": "stream",
     "text": [
      "Verdadeiros Ataques: 7259, Falsos Não-Ataques: 11\n",
      "Falsos Ataques: 112, Verdadeiros Não-Ataques: 7123\n",
      "AUC: 0.992\n",
      "              precision    recall  f1-score   support\n",
      "\n",
      "        -1.0       0.98      1.00      0.99      7270\n",
      "         1.0       1.00      0.98      0.99      7235\n",
      "\n",
      "    accuracy                           0.99     14505\n",
      "   macro avg       0.99      0.99      0.99     14505\n",
      "weighted avg       0.99      0.99      0.99     14505\n",
      "\n"
     ]
    }
   ],
   "source": [
    "knn = KNeighborsClassifier(**lda_best_params)\n",
    "knn.fit(pca_X_train, pca_y_train)\n",
    "y_pred = knn.predict(pca_X_test)\n",
    "\n",
    "auc, f1 = aux.analyse_ml_results(pca_y_test, y_pred)\n",
    "auc_values.append(auc)\n",
    "f1_score_values.append(f1)"
   ]
  },
  {
   "cell_type": "markdown",
   "metadata": {},
   "source": [
    "### Comparação dos Métodos"
   ]
  },
  {
   "cell_type": "code",
   "execution_count": 32,
   "metadata": {},
   "outputs": [
    {
     "data": {
      "image/png": "[encoded data removed]",
      "text/plain": [
       "<Figure size 1000x500 with 2 Axes>"
      ]
     },
     "metadata": {},
     "output_type": "display_data"
    }
   ],
   "source": [
    "aux.plot_auc_and_f1(auc_values, f1_score_values)"
   ]
  }
 ],
 "metadata": {
  "kernelspec": {
   "display_name": "Python 3",
   "language": "python",
   "name": "python3"
  },
  "language_info": {
   "codemirror_mode": {
    "name": "ipython",
    "version": 3
   },
   "file_extension": ".py",
   "mimetype": "text/x-python",
   "name": "python",
   "nbconvert_exporter": "python",
   "pygments_lexer": "ipython3",
   "version": "3.10.12"
  }
 },
 "nbformat": 4,
 "nbformat_minor": 2
}
