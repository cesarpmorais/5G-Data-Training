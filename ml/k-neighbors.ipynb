{
 "cells": [
  {
   "cell_type": "markdown",
   "metadata": {},
   "source": [
    "# K-Nearest Neighbors\n",
    "Grid Search será usado para selecionar os melhores hiperparâmetros."
   ]
  },
  {
   "cell_type": "code",
   "execution_count": 1,
   "metadata": {},
   "outputs": [],
   "source": [
    "import aux\n",
    "\n",
    "from sklearn.model_selection import cross_val_score, GridSearchCV\n",
    "from sklearn.neighbors import KNeighborsClassifier\n",
    "\n",
    "import numpy as np\n",
    "import matplotlib.pyplot as plt\n",
    "\n",
    "# Carregar os datasets\n",
    "og_df, pca_df, pearson_df = aux.get_datasets()\n",
    "\n",
    "# Preparar listas para comparação\n",
    "auc_values = []\n",
    "f1_score_values = []"
   ]
  },
  {
   "cell_type": "markdown",
   "metadata": {},
   "source": [
    "### Dataset Original"
   ]
  },
  {
   "cell_type": "code",
   "execution_count": 2,
   "metadata": {},
   "outputs": [],
   "source": [
    "og_X_train, og_X_test, og_y_train, og_y_test = aux.prepare_dataset(og_df)"
   ]
  },
  {
   "cell_type": "markdown",
   "metadata": {},
   "source": [
    "Buscando os melhores hiperparâmetros:\n",
    "\n",
    "'algorithm' não foi usado pois o valor default já decide a melhor abordagem;\n",
    "\n",
    "'leafsize' geralmente dá maior acurácia com valores menores, mas valores maiores são mais performáticos;"
   ]
  },
  {
   "cell_type": "code",
   "execution_count": 22,
   "metadata": {},
   "outputs": [],
   "source": [
    "params = {\n",
    "    'n_neighbors': np.arange(1,10),\n",
    "    'weights': ['uniform', 'distance'],\n",
    "    'leaf_size': [20, 30, 50, 100],\n",
    "}\n",
    "\n",
    "knn_model = KNeighborsClassifier()\n",
    "grid_search = GridSearchCV(knn_model, params)\n",
    "grid_search.fit(og_X_train, og_y_train)\n",
    "\n",
    "print(grid_search.best_params_)"
   ]
  },
  {
   "cell_type": "code",
   "execution_count": 12,
   "metadata": {},
   "outputs": [
    {
     "name": "stdout",
     "output_type": "stream",
     "text": [
      "Verdadeiros Ataques: 7254, Falsos Não-Ataques: 16\n",
      "Falsos Ataques: 2270, Verdadeiros Não-Ataques: 4965\n",
      "AUC: 0.842\n",
      "              precision    recall  f1-score   support\n",
      "\n",
      "          -1       0.76      1.00      0.86      7270\n",
      "           1       1.00      0.69      0.81      7235\n",
      "\n",
      "    accuracy                           0.84     14505\n",
      "   macro avg       0.88      0.84      0.84     14505\n",
      "weighted avg       0.88      0.84      0.84     14505\n",
      "\n"
     ]
    }
   ],
   "source": [
    "# Change values\n",
    "knn = KNeighborsClassifier(n_neighbors=2, leaf_size=20, weights='distance')\n",
    "knn.fit(og_X_train, og_y_train)\n",
    "y_pred = knn.predict(og_X_test)\n",
    "\n",
    "auc, f1 = aux.analyse_ml_results(og_y_test, y_pred)\n",
    "auc_values.append(auc)\n",
    "f1_score_values.append(f1)"
   ]
  },
  {
   "cell_type": "markdown",
   "metadata": {},
   "source": [
    "### Dataset Reduzido por Pearson"
   ]
  },
  {
   "cell_type": "code",
   "execution_count": 13,
   "metadata": {},
   "outputs": [],
   "source": [
    "pearson_X_train, pearson_X_test, pearson_y_train, pearson_y_test = aux.prepare_dataset(pearson_df)"
   ]
  },
  {
   "cell_type": "code",
   "execution_count": 15,
   "metadata": {},
   "outputs": [
    {
     "name": "stdout",
     "output_type": "stream",
     "text": [
      "{'leaf_size': 20, 'n_neighbors': 2, 'weights': 'distance'}\n"
     ]
    }
   ],
   "source": [
    "params = {\n",
    "    'n_neighbors': np.arange(1,10),\n",
    "    'weights': ['uniform', 'distance'],\n",
    "    'leaf_size': [20, 30, 50, 100],\n",
    "}\n",
    "\n",
    "knn_model = KNeighborsClassifier()\n",
    "grid_search = GridSearchCV(knn_model, params)\n",
    "grid_search.fit(pearson_X_train, pearson_y_train)\n",
    "\n",
    "print(grid_search.best_params_)"
   ]
  },
  {
   "cell_type": "code",
   "execution_count": 16,
   "metadata": {},
   "outputs": [
    {
     "name": "stdout",
     "output_type": "stream",
     "text": [
      "Verdadeiros Ataques: 7257, Falsos Não-Ataques: 13\n",
      "Falsos Ataques: 199, Verdadeiros Não-Ataques: 7036\n",
      "AUC: 0.985\n",
      "              precision    recall  f1-score   support\n",
      "\n",
      "          -1       0.97      1.00      0.99      7270\n",
      "           1       1.00      0.97      0.99      7235\n",
      "\n",
      "    accuracy                           0.99     14505\n",
      "   macro avg       0.99      0.99      0.99     14505\n",
      "weighted avg       0.99      0.99      0.99     14505\n",
      "\n"
     ]
    }
   ],
   "source": [
    "knn = KNeighborsClassifier(n_neighbors=1)\n",
    "knn.fit(pearson_X_train, pearson_y_train)\n",
    "y_pred = knn.predict(pearson_X_test)\n",
    "\n",
    "auc, f1 = aux.analyse_ml_results(pearson_y_test, y_pred)\n",
    "auc_values.append(auc)\n",
    "f1_score_values.append(f1)"
   ]
  },
  {
   "cell_type": "markdown",
   "metadata": {},
   "source": [
    "### Dataset Reduzido por PCA"
   ]
  },
  {
   "cell_type": "code",
   "execution_count": 17,
   "metadata": {},
   "outputs": [],
   "source": [
    "pca_X_train, pca_X_test, pca_y_train, pca_y_test = aux.prepare_dataset(pca_df)"
   ]
  },
  {
   "cell_type": "code",
   "execution_count": 18,
   "metadata": {},
   "outputs": [
    {
     "name": "stdout",
     "output_type": "stream",
     "text": [
      "{'leaf_size': 100, 'n_neighbors': 2, 'weights': 'distance'}\n"
     ]
    }
   ],
   "source": [
    "params = {\n",
    "    'n_neighbors': np.arange(1,10),\n",
    "    'weights': ['uniform', 'distance'],\n",
    "    'leaf_size': [20, 30, 50, 100],\n",
    "}\n",
    "\n",
    "knn_model = KNeighborsClassifier()\n",
    "grid_search = GridSearchCV(knn_model, params)\n",
    "grid_search.fit(pca_X_train, pca_y_train)\n",
    "\n",
    "print(grid_search.best_params_)"
   ]
  },
  {
   "cell_type": "code",
   "execution_count": 19,
   "metadata": {},
   "outputs": [
    {
     "name": "stdout",
     "output_type": "stream",
     "text": [
      "Verdadeiros Ataques: 7212, Falsos Não-Ataques: 58\n",
      "Falsos Ataques: 67, Verdadeiros Não-Ataques: 7168\n",
      "AUC: 0.991\n",
      "              precision    recall  f1-score   support\n",
      "\n",
      "        -1.0       0.99      0.99      0.99      7270\n",
      "         1.0       0.99      0.99      0.99      7235\n",
      "\n",
      "    accuracy                           0.99     14505\n",
      "   macro avg       0.99      0.99      0.99     14505\n",
      "weighted avg       0.99      0.99      0.99     14505\n",
      "\n"
     ]
    }
   ],
   "source": [
    "knn = KNeighborsClassifier(n_neighbors=1)\n",
    "knn.fit(pca_X_train, pca_y_train)\n",
    "y_pred = knn.predict(pca_X_test)\n",
    "\n",
    "auc, f1 = aux.analyse_ml_results(pca_y_test, y_pred)\n",
    "auc_values.append(auc)\n",
    "f1_score_values.append(f1)"
   ]
  },
  {
   "cell_type": "markdown",
   "metadata": {},
   "source": [
    "Comparando os três métodos, temos:"
   ]
  },
  {
   "cell_type": "code",
   "execution_count": 21,
   "metadata": {},
   "outputs": [
    {
     "data": {
      "image/png": "[encoded data removed]",
      "text/plain": [
       "<Figure size 1000x500 with 2 Axes>"
      ]
     },
     "metadata": {},
     "output_type": "display_data"
    }
   ],
   "source": [
    "aux.plot_auc_and_f1(auc_values, f1_score_values)"
   ]
  }
 ],
 "metadata": {
  "kernelspec": {
   "display_name": "Python 3",
   "language": "python",
   "name": "python3"
  },
  "language_info": {
   "codemirror_mode": {
    "name": "ipython",
    "version": 3
   },
   "file_extension": ".py",
   "mimetype": "text/x-python",
   "name": "python",
   "nbconvert_exporter": "python",
   "pygments_lexer": "ipython3",
   "version": "3.10.12"
  }
 },
 "nbformat": 4,
 "nbformat_minor": 2
}
