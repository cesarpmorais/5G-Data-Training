{
 "cells": [
  {
   "cell_type": "markdown",
   "metadata": {},
   "source": [
    "# Support Vector Machines\n",
    "É um algoritmo supervisionado que busca traçar uma reta no hiperplano para separá-lo em duas áreas, cada uma correspondendo a uma das duas classes possíveis."
   ]
  },
  {
   "cell_type": "code",
   "execution_count": 1,
   "metadata": {},
   "outputs": [],
   "source": [
    "import aux\n",
    "from sklearn.svm import LinearSVC\n",
    "\n",
    "\n",
    "# Carregar os datasets\n",
    "og_df, pca_df, pearson_df = aux.get_datasets()\n",
    "\n",
    "# Preparar listas para comparação\n",
    "auc_values = []\n",
    "f1_score_values = []"
   ]
  },
  {
   "cell_type": "markdown",
   "metadata": {},
   "source": [
    "### Dataset Original"
   ]
  },
  {
   "cell_type": "code",
   "execution_count": 2,
   "metadata": {},
   "outputs": [],
   "source": [
    "og_X_train, og_X_test, og_y_train, og_y_test = aux.prepare_dataset(og_df)"
   ]
  },
  {
   "cell_type": "code",
   "execution_count": 3,
   "metadata": {},
   "outputs": [
    {
     "name": "stdout",
     "output_type": "stream",
     "text": [
      "Verdadeiros Ataques: 7265, Falsos Não-Ataques: 5\n",
      "Falsos Ataques: 124, Verdadeiros Não-Ataques: 7111\n",
      "AUC: 0.991\n",
      "              precision    recall  f1-score   support\n",
      "\n",
      "          -1       0.98      1.00      0.99      7270\n",
      "           1       1.00      0.98      0.99      7235\n",
      "\n",
      "    accuracy                           0.99     14505\n",
      "   macro avg       0.99      0.99      0.99     14505\n",
      "weighted avg       0.99      0.99      0.99     14505\n",
      "\n"
     ]
    }
   ],
   "source": [
    "linear_svc = LinearSVC(dual=\"auto\", max_iter=100000)\n",
    "linear_svc.fit(og_X_train, og_y_train)\n",
    "\n",
    "# Vamos predizer o modelo para a classe de teste\n",
    "y_pred = linear_svc.predict(og_X_test)\n",
    "\n",
    "auc, f1 = aux.analyse_ml_results(og_y_test, y_pred)\n",
    "auc_values.append(auc)\n",
    "f1_score_values.append(f1)"
   ]
  },
  {
   "cell_type": "markdown",
   "metadata": {},
   "source": [
    "### Dataset Reduzido por Pearson"
   ]
  },
  {
   "cell_type": "code",
   "execution_count": 4,
   "metadata": {},
   "outputs": [],
   "source": [
    "pearson_X_train, pearson_X_test, pearson_y_train, pearson_y_test = aux.prepare_dataset(pearson_df)"
   ]
  },
  {
   "cell_type": "code",
   "execution_count": 5,
   "metadata": {},
   "outputs": [
    {
     "name": "stdout",
     "output_type": "stream",
     "text": [
      "Verdadeiros Ataques: 7096, Falsos Não-Ataques: 174\n",
      "Falsos Ataques: 748, Verdadeiros Não-Ataques: 6487\n",
      "AUC: 0.936\n",
      "              precision    recall  f1-score   support\n",
      "\n",
      "          -1       0.90      0.98      0.94      7270\n",
      "           1       0.97      0.90      0.93      7235\n",
      "\n",
      "    accuracy                           0.94     14505\n",
      "   macro avg       0.94      0.94      0.94     14505\n",
      "weighted avg       0.94      0.94      0.94     14505\n",
      "\n"
     ]
    }
   ],
   "source": [
    "linear_svc = LinearSVC(dual=\"auto\", max_iter=100000)\n",
    "linear_svc.fit(pearson_X_train, pearson_y_train)\n",
    "\n",
    "# Vamos predizer o modelo para a classe de teste\n",
    "y_pred = linear_svc.predict(pearson_X_test)\n",
    "\n",
    "auc, f1 = aux.analyse_ml_results(pearson_y_test, y_pred)\n",
    "auc_values.append(auc)\n",
    "f1_score_values.append(f1)"
   ]
  },
  {
   "cell_type": "markdown",
   "metadata": {},
   "source": [
    "### Dataset Reduzido por PCA"
   ]
  },
  {
   "cell_type": "code",
   "execution_count": 6,
   "metadata": {},
   "outputs": [],
   "source": [
    "pca_X_train, pca_X_test, pca_y_train, pca_y_test = aux.prepare_dataset(pca_df)"
   ]
  },
  {
   "cell_type": "code",
   "execution_count": 7,
   "metadata": {},
   "outputs": [
    {
     "name": "stdout",
     "output_type": "stream",
     "text": [
      "Verdadeiros Ataques: 7192, Falsos Não-Ataques: 78\n",
      "Falsos Ataques: 195, Verdadeiros Não-Ataques: 7040\n",
      "AUC: 0.981\n",
      "              precision    recall  f1-score   support\n",
      "\n",
      "        -1.0       0.97      0.99      0.98      7270\n",
      "         1.0       0.99      0.97      0.98      7235\n",
      "\n",
      "    accuracy                           0.98     14505\n",
      "   macro avg       0.98      0.98      0.98     14505\n",
      "weighted avg       0.98      0.98      0.98     14505\n",
      "\n"
     ]
    }
   ],
   "source": [
    "linear_svc = LinearSVC(dual=\"auto\", max_iter=100000)\n",
    "linear_svc.fit(pca_X_train, pca_y_train)\n",
    "\n",
    "# Vamos predizer o modelo para a classe de teste\n",
    "y_pred = linear_svc.predict(pca_X_test)\n",
    "\n",
    "auc, f1 = aux.analyse_ml_results(pca_y_test, y_pred)\n",
    "auc_values.append(auc)\n",
    "f1_score_values.append(f1)"
   ]
  },
  {
   "cell_type": "markdown",
   "metadata": {},
   "source": [
    "Comparando os três métodos, temos:"
   ]
  },
  {
   "cell_type": "code",
   "execution_count": 8,
   "metadata": {},
   "outputs": [
    {
     "data": {
      "image/png": "[encoded data removed]",
      "text/plain": [
       "<Figure size 1000x500 with 2 Axes>"
      ]
     },
     "metadata": {},
     "output_type": "display_data"
    }
   ],
   "source": [
    "aux.plot_auc_and_f1(auc_values, f1_score_values)"
   ]
  }
 ],
 "metadata": {
  "kernelspec": {
   "display_name": "Python 3",
   "language": "python",
   "name": "python3"
  },
  "language_info": {
   "codemirror_mode": {
    "name": "ipython",
    "version": 3
   },
   "file_extension": ".py",
   "mimetype": "text/x-python",
   "name": "python",
   "nbconvert_exporter": "python",
   "pygments_lexer": "ipython3",
   "version": "3.10.12"
  }
 },
 "nbformat": 4,
 "nbformat_minor": 2
}
